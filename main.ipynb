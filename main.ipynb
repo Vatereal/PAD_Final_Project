{
 "cells": [
  {
   "cell_type": "code",
   "execution_count": 8,
   "id": "a643b0a7",
   "metadata": {},
   "outputs": [],
   "source": [
    "import argparse\n",
    "import gc\n",
    "from pathlib import Path\n",
    "\n",
    "from catboost import CatBoostError, CatBoostRegressor\n",
    "import matplotlib.pyplot as plt\n",
    "import mlflow\n",
    "import numpy as np\n",
    "import optuna\n",
    "import pandas as pd\n",
    "import pyarrow.dataset as ds\n",
    "from sklearn.metrics import mean_squared_error\n",
    "from sklearn.model_selection import TimeSeriesSplit, train_test_split"
   ]
  },
  {
   "cell_type": "code",
   "execution_count": 9,
   "id": "f148ed4c",
   "metadata": {},
   "outputs": [],
   "source": [
    "def load_your_data():\n",
    "    DATA_DIR = Path(\"data\")\n",
    "    df = (\n",
    "        ds.dataset(DATA_DIR, format=\"parquet\")\n",
    "          .to_table()\n",
    "          .to_pandas(use_threads=True, self_destruct=True)\n",
    "    )\n",
    "    gc.collect()\n",
    "\n",
    "    df[\"tpep_pickup_datetime\"] = pd.to_datetime(df[\"tpep_pickup_datetime\"])\n",
    "    df[\"tpep_dropoff_datetime\"] = pd.to_datetime(df[\"tpep_dropoff_datetime\"])\n",
    "    df = df[df[\"tip_amount\"] >= 0]\n",
    "    df[\"trip_duration_min\"] = (\n",
    "        (df[\"tpep_dropoff_datetime\"] - df[\"tpep_pickup_datetime\"])\n",
    "        .dt.total_seconds() / 60\n",
    "    )\n",
    "    df[\"pickup_month\"] = df[\"tpep_pickup_datetime\"].dt.month.astype(\"int8\")\n",
    "    df[\"pickup_day\"]   = df[\"tpep_pickup_datetime\"].dt.day.astype(\"int8\")\n",
    "    df[\"pickup_hour\"]  = df[\"tpep_pickup_datetime\"].dt.hour.astype(\"int8\")\n",
    "    df[\"pickup_dow\"]   = df[\"tpep_pickup_datetime\"].dt.dayofweek.astype(\"int8\")\n",
    "\n",
    "    for col in [\"cbd_congestion_fee\", \"airport_fee\", \"congestion_surcharge\"]:\n",
    "        if col not in df.columns:\n",
    "            df[col] = 0.0\n",
    "\n",
    "    categorical = [\n",
    "        \"VendorID\", \"RatecodeID\", \"store_and_fwd_flag\",\n",
    "        \"PULocationID\", \"DOLocationID\", \"payment_type\",\n",
    "        \"pickup_month\", \"pickup_day\", \"pickup_hour\", \"pickup_dow\",\n",
    "    ]\n",
    "    string_categorical = [\"store_and_fwd_flag\"]\n",
    "    numeric_categorical = [c for c in categorical if c not in string_categorical]\n",
    "\n",
    "    for col in numeric_categorical:\n",
    "        df[col] = (\n",
    "            pd.to_numeric(df[col], errors=\"coerce\")\n",
    "              .fillna(-1)\n",
    "              .astype(\"int32\")\n",
    "        )\n",
    "    for col in string_categorical:\n",
    "        df[col] = df[col].fillna(\"missing\").astype(\"string\")\n",
    "\n",
    "    features = [\n",
    "        \"VendorID\", \"RatecodeID\", \"store_and_fwd_flag\",\n",
    "        \"PULocationID\", \"DOLocationID\", \"payment_type\",\n",
    "        \"passenger_count\", \"trip_distance\", \"fare_amount\",\n",
    "        \"extra\", \"mta_tax\", \"tolls_amount\", \"improvement_surcharge\",\n",
    "        \"congestion_surcharge\", \"airport_fee\", \"cbd_congestion_fee\",\n",
    "        \"total_amount\", \"trip_duration_min\",\n",
    "        \"pickup_month\", \"pickup_day\", \"pickup_hour\", \"pickup_dow\",\n",
    "    ]\n",
    "    target = \"tip_amount\"\n",
    "\n",
    "    X_train, X_test, y_train, y_test = train_test_split(\n",
    "        df[features], df[target], test_size=0.20, random_state=42\n",
    "    )\n",
    "\n",
    "    return X_train, y_train, categorical, X_test, y_test"
   ]
  },
  {
   "cell_type": "code",
   "execution_count": 10,
   "id": "f78c7a71",
   "metadata": {},
   "outputs": [],
   "source": [
    "# total_rows = len(df)\n",
    "# rows = []\n",
    "# for col in df.columns:\n",
    "#     miss_pct = df[col].isna().mean() * 100\n",
    "#     zero_pct = ((df[col] == 0).sum() / total_rows) * 100 if pd.api.types.is_numeric_dtype(df[col]) else np.nan\n",
    "#     top_freq = df[col].value_counts(dropna=False).iloc[0]\n",
    "#     mode_pct = (top_freq / total_rows) * 100\n",
    "#     rows.append({\"column\": col, \"%missing\": round(miss_pct, 2),\n",
    "#                  \"%zeros\": round(zero_pct, 2) if not np.isnan(zero_pct) else np.nan,\n",
    "#                  \"%mode_share\": round(mode_pct, 2)})\n",
    "\n",
    "# eda_df = pd.DataFrame(rows).sort_values(\"%missing\", ascending=False)\n",
    "# eda_df"
   ]
  },
  {
   "cell_type": "code",
   "execution_count": 12,
   "id": "81c16c07",
   "metadata": {},
   "outputs": [],
   "source": [
    "def objective(trial, X, y, categorical):\n",
    "    params = {\n",
    "        \"loss_function\": \"RMSE\",\n",
    "        \"iterations\": trial.suggest_int(\"iterations\", 100, 2000),\n",
    "        \"depth\": trial.suggest_int(\"depth\", 4, 10),\n",
    "        \"learning_rate\": trial.suggest_float(\"learning_rate\", 1e-3, 0.3, log=True),\n",
    "        \"l2_leaf_reg\": trial.suggest_float(\"l2_leaf_reg\", 1e-3, 100, log=True),\n",
    "        \"bagging_temperature\": trial.suggest_float(\"bagging_temperature\", 0, 1),\n",
    "        \"random_strength\": trial.suggest_float(\"random_strength\", 0, 1),\n",
    "        \"random_seed\": 42,\n",
    "        \"verbose\": 0,\n",
    "        \"early_stopping_rounds\": 20,\n",
    "        \"task_type\": \"GPU\",\n",
    "        \"devices\": \"0\",\n",
    "    }\n",
    "    with mlflow.start_run(nested=True):\n",
    "        mlflow.log_params(params)\n",
    "        tscv = TimeSeriesSplit(n_splits=4)\n",
    "        rmses = []\n",
    "        try:\n",
    "            for train_idx, val_idx in tscv.split(X):\n",
    "                X_tr, X_val = X.iloc[train_idx], X.iloc[val_idx]\n",
    "                y_tr, y_val = y.iloc[train_idx], y.iloc[val_idx]\n",
    "                model = CatBoostRegressor(**params)\n",
    "                model.fit(\n",
    "                    X_tr, y_tr,\n",
    "                    cat_features=categorical,\n",
    "                    eval_set=(X_val, y_val),\n",
    "                )\n",
    "                preds = model.predict(X_val)\n",
    "                rmses.append(mean_squared_error(y_val, preds))\n",
    "        except CatBoostError as e:\n",
    "            trial.set_user_attr(\"fail_reason\", str(e))\n",
    "            return float(\"inf\")\n",
    "        score = float(np.mean(rmses))\n",
    "        mlflow.log_metric(\"rmse_cv\", score)\n",
    "        return score\n",
    "\n",
    "def main(n_trials: int):\n",
    "    mlflow.set_experiment(\"Taxi_Duration_Experiment\")\n",
    "    X, y, categorical, X_test, y_test = load_your_data()\n",
    "    study = optuna.create_study(\n",
    "        direction=\"minimize\",\n",
    "        pruner=optuna.pruners.HyperbandPruner(),\n",
    "    )\n",
    "    study.optimize(\n",
    "        lambda t: objective(t, X, y, categorical),\n",
    "        n_trials=n_trials,\n",
    "        show_progress_bar=True,\n",
    "    )\n",
    "    best_params = study.best_trial.params\n",
    "    best_params.update(loss_function=\"RMSE\", random_seed=42, verbose=0)\n",
    "    final = CatBoostRegressor(**best_params)\n",
    "    final.fit(X, y, cat_features=categorical, eval_set=(X_test, y_test), verbose=False)\n",
    "    preds = final.predict(X_test)\n",
    "    rmse_test = mean_squared_error(y_test, preds)\n",
    "    mlflow.log_metric(\"rmse_test\", rmse_test)\n",
    "    print(f\"Final test RMSE: {rmse_test:.4f}\")"
   ]
  },
  {
   "cell_type": "code",
   "execution_count": null,
   "id": "1a05d37e",
   "metadata": {},
   "outputs": [
    {
     "name": "stderr",
     "output_type": "stream",
     "text": [
      "[I 2025-05-20 18:07:33,214] A new study created in memory with name: no-name-1ed363de-1343-4208-ae89-7358201064c6\n"
     ]
    },
    {
     "data": {
      "application/vnd.jupyter.widget-view+json": {
       "model_id": "34aa454728e7477193eaee7b4230a26b",
       "version_major": 2,
       "version_minor": 0
      },
      "text/plain": [
       "  0%|          | 0/1 [00:00<?, ?it/s]"
      ]
     },
     "metadata": {},
     "output_type": "display_data"
    },
    {
     "name": "stdout",
     "output_type": "stream",
     "text": [
      "[I 2025-05-20 19:21:37,848] Trial 0 finished with value: inf and parameters: {'iterations': 1258, 'depth': 4, 'learning_rate': 0.1977286300157578, 'l2_leaf_reg': 2.3062642583309003, 'bagging_temperature': 0.4346096140968354, 'random_strength': 0.31535489117217486}. Best is trial 0 with value: inf.\n"
     ]
    }
   ],
   "source": [
    "if __name__ == \"__main__\":\n",
    "    parser = argparse.ArgumentParser()\n",
    "    parser.add_argument(\"--n-trials\", type=int, default=1)\n",
    "    args, _ = parser.parse_known_args()\n",
    "    main(args.n_trials)"
   ]
  },
  {
   "cell_type": "code",
   "execution_count": null,
   "id": "0bedc8bc",
   "metadata": {},
   "outputs": [],
   "source": [
    "# plt.figure(figsize=(6, 6))\n",
    "# sns.scatterplot(x=y_test, y=preds, alpha=0.3)\n",
    "# plt.xlabel(\"Actual\")\n",
    "# plt.ylabel(\"Predicted\")\n",
    "# plt.tight_layout()\n",
    "# plt.savefig(\"scatter_actual_vs_pred.png\", dpi=300)\n",
    "\n",
    "# residuals = y_test - preds\n",
    "# plt.figure(figsize=(6, 4))\n",
    "# sns.histplot(residuals, bins=100, kde=True)\n",
    "# plt.xlabel(\"Residuals\")\n",
    "# plt.tight_layout()\n",
    "# plt.savefig(\"residual_hist.png\", dpi=300)\n",
    "\n",
    "# importances = model.get_feature_importance(type=\"PredictionValuesChange\")\n",
    "# imp_df = pd.DataFrame({\"feature\": features, \"importance\": importances}).sort_values(\"importance\", ascending=False)\n",
    "# plt.figure(figsize=(8, 6))\n",
    "# sns.barplot(x=\"importance\", y=\"feature\", data=imp_df.head(20))\n",
    "# plt.tight_layout()\n",
    "# plt.savefig(\"feature_importance.png\", dpi=300)\n",
    "\n",
    "# model.save_model(\"tip_model_catboost.cbm\")\n",
    "# imp_df.to_csv(\"feature_importance.csv\", index=False)"
   ]
  }
 ],
 "metadata": {
  "kernelspec": {
   "display_name": "pad-final-project-uFfiJNJD-py3.12",
   "language": "python",
   "name": "python3"
  },
  "language_info": {
   "codemirror_mode": {
    "name": "ipython",
    "version": 3
   },
   "file_extension": ".py",
   "mimetype": "text/x-python",
   "name": "python",
   "nbconvert_exporter": "python",
   "pygments_lexer": "ipython3",
   "version": "3.12.3"
  }
 },
 "nbformat": 4,
 "nbformat_minor": 5
}
