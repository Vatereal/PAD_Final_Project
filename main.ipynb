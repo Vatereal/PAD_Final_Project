{
 "cells": [
  {
   "cell_type": "code",
   "execution_count": 8,
   "id": "a643b0a7",
   "metadata": {},
   "outputs": [],
   "source": [
    "from pathlib import Path\n",
    "import gc, numpy as np, pandas as pd, pyarrow.dataset as ds\n",
    "from sklearn.model_selection import train_test_split, TimeSeriesSplit\n",
    "from sklearn.metrics import mean_squared_error\n",
    "from catboost import CatBoostRegressor, CatBoostError\n",
    "import matplotlib.pyplot as plt\n",
    "import optuna"
   ]
  },
  {
   "cell_type": "code",
   "execution_count": 9,
   "id": "f148ed4c",
   "metadata": {},
   "outputs": [
    {
     "name": "stdout",
     "output_type": "stream",
     "text": [
      "7.38651714 GB in RAM\n"
     ]
    },
    {
     "data": {
      "text/plain": [
       "231"
      ]
     },
     "execution_count": 9,
     "metadata": {},
     "output_type": "execute_result"
    }
   ],
   "source": [
    "DATA_DIR = Path(\"data\")\n",
    "\n",
    "df = (\n",
    "    ds.dataset(DATA_DIR, format=\"parquet\")\n",
    "      .to_table()\n",
    "      .to_pandas(use_threads=True, self_destruct=True)\n",
    ")\n",
    "print(df.memory_usage(deep=True).sum() / 1e9, \"GB in RAM\")\n",
    "gc.collect()"
   ]
  },
  {
   "cell_type": "code",
   "execution_count": 10,
   "id": "5bab5913",
   "metadata": {},
   "outputs": [],
   "source": [
    "df[\"tpep_pickup_datetime\"]  = pd.to_datetime(df[\"tpep_pickup_datetime\"])\n",
    "df[\"tpep_dropoff_datetime\"] = pd.to_datetime(df[\"tpep_dropoff_datetime\"])\n",
    "\n",
    "df = df[df[\"tip_amount\"] >= 0]\n",
    "\n",
    "df[\"trip_duration_min\"] = (\n",
    "    (df[\"tpep_dropoff_datetime\"] - df[\"tpep_pickup_datetime\"]).dt.total_seconds() / 60\n",
    ")\n",
    "df[\"pickup_month\"] = df[\"tpep_pickup_datetime\"].dt.month.astype(\"int8\")\n",
    "df[\"pickup_day\"]   = df[\"tpep_pickup_datetime\"].dt.day.astype(\"int8\")\n",
    "df[\"pickup_hour\"]  = df[\"tpep_pickup_datetime\"].dt.hour.astype(\"int8\")\n",
    "df[\"pickup_dow\"]   = df[\"tpep_pickup_datetime\"].dt.dayofweek.astype(\"int8\")\n",
    "\n",
    "for col in [\"cbd_congestion_fee\", \"airport_fee\", \"congestion_surcharge\"]:\n",
    "    if col not in df.columns:\n",
    "        df[col] = 0.0"
   ]
  },
  {
   "cell_type": "code",
   "execution_count": 11,
   "id": "ba3e40ff",
   "metadata": {},
   "outputs": [
    {
     "name": "stdout",
     "output_type": "stream",
     "text": [
      "9.163929744 GB in RAM\n"
     ]
    },
    {
     "data": {
      "text/plain": [
       "33"
      ]
     },
     "execution_count": 11,
     "metadata": {},
     "output_type": "execute_result"
    }
   ],
   "source": [
    "categorical = [\n",
    "    \"VendorID\", \"RatecodeID\", \"store_and_fwd_flag\",\n",
    "    \"PULocationID\", \"DOLocationID\", \"payment_type\",\n",
    "    \"pickup_month\", \"pickup_day\", \"pickup_hour\", \"pickup_dow\",\n",
    "]\n",
    "\n",
    "string_categorical  = [\"store_and_fwd_flag\"]\n",
    "numeric_categorical = [c for c in categorical if c not in string_categorical]\n",
    "\n",
    "for col in numeric_categorical:\n",
    "    df[col] = (\n",
    "        pd.to_numeric(df[col], errors=\"coerce\")\n",
    "          .fillna(-1)\n",
    "          .astype(\"int32\")\n",
    "    )\n",
    "\n",
    "for col in string_categorical:\n",
    "    df[col] = df[col].fillna(\"missing\").astype(\"string\")\n",
    "\n",
    "print(df.memory_usage(deep=True).sum() / 1e9, \"GB in RAM\")\n",
    "gc.collect()"
   ]
  },
  {
   "cell_type": "code",
   "execution_count": 12,
   "id": "7fff215f",
   "metadata": {},
   "outputs": [],
   "source": [
    "features = [\n",
    "    \"VendorID\", \"RatecodeID\", \"store_and_fwd_flag\",\n",
    "    \"PULocationID\", \"DOLocationID\", \"payment_type\",\n",
    "    \"passenger_count\", \"trip_distance\", \"fare_amount\",\n",
    "    \"extra\", \"mta_tax\", \"tolls_amount\", \"improvement_surcharge\",\n",
    "    \"congestion_surcharge\", \"airport_fee\", \"cbd_congestion_fee\",\n",
    "    \"total_amount\", \"trip_duration_min\",\n",
    "    \"pickup_month\", \"pickup_day\", \"pickup_hour\", \"pickup_dow\",\n",
    "]\n",
    "target = \"tip_amount\"\n",
    "\n",
    "X_train, X_test, y_train, y_test = train_test_split(\n",
    "    df[features], df[target], test_size=0.20, random_state=42)"
   ]
  },
  {
   "cell_type": "code",
   "execution_count": 13,
   "id": "f78c7a71",
   "metadata": {},
   "outputs": [
    {
     "data": {
      "application/vnd.microsoft.datawrangler.viewer.v0+json": {
       "columns": [
        {
         "name": "index",
         "rawType": "int64",
         "type": "integer"
        },
        {
         "name": "column",
         "rawType": "object",
         "type": "string"
        },
        {
         "name": "%missing",
         "rawType": "float64",
         "type": "float"
        },
        {
         "name": "%zeros",
         "rawType": "float64",
         "type": "float"
        },
        {
         "name": "%mode_share",
         "rawType": "float64",
         "type": "float"
        }
       ],
       "conversionMethod": "pd.DataFrame",
       "ref": "48053fb0-8a3d-4381-b261-7602c62bad84",
       "rows": [
        [
         "3",
         "passenger_count",
         "9.94",
         "0.97",
         "69.55"
        ],
        [
         "17",
         "congestion_surcharge",
         "9.94",
         "7.24",
         "81.62"
        ],
        [
         "18",
         "Airport_fee",
         "9.94",
         "82.01",
         "82.01"
        ],
        [
         "2",
         "tpep_dropoff_datetime",
         "0.0",
         null,
         "0.0"
        ],
        [
         "1",
         "tpep_pickup_datetime",
         "0.0",
         null,
         "0.0"
        ],
        [
         "5",
         "RatecodeID",
         "0.0",
         "0.0",
         "84.17"
        ],
        [
         "6",
         "store_and_fwd_flag",
         "0.0",
         null,
         "89.64"
        ],
        [
         "7",
         "PULocationID",
         "0.0",
         "0.0",
         "4.83"
        ],
        [
         "4",
         "trip_distance",
         "0.0",
         "1.88",
         "1.88"
        ],
        [
         "0",
         "VendorID",
         "0.0",
         "0.0",
         "76.39"
        ],
        [
         "9",
         "payment_type",
         "0.0",
         "9.94",
         "73.97"
        ],
        [
         "8",
         "DOLocationID",
         "0.0",
         "0.0",
         "4.36"
        ],
        [
         "12",
         "mta_tax",
         "0.0",
         "1.21",
         "97.37"
        ],
        [
         "10",
         "fare_amount",
         "0.0",
         "0.04",
         "4.04"
        ],
        [
         "13",
         "tip_amount",
         "0.0",
         "28.72",
         "28.72"
        ],
        [
         "14",
         "tolls_amount",
         "0.0",
         "92.38",
         "92.38"
        ],
        [
         "15",
         "improvement_surcharge",
         "0.0",
         "0.75",
         "97.77"
        ],
        [
         "11",
         "extra",
         "0.0",
         "45.81",
         "45.81"
        ],
        [
         "16",
         "total_amount",
         "0.0",
         "0.01",
         "1.29"
        ],
        [
         "19",
         "trip_duration_min",
         "0.0",
         "0.03",
         "0.12"
        ],
        [
         "20",
         "pickup_month",
         "0.0",
         "0.0",
         "9.31"
        ],
        [
         "21",
         "pickup_day",
         "0.0",
         "0.0",
         "3.53"
        ],
        [
         "22",
         "pickup_hour",
         "0.0",
         "2.9",
         "7.18"
        ],
        [
         "23",
         "pickup_dow",
         "0.0",
         "12.42",
         "15.61"
        ],
        [
         "24",
         "cbd_congestion_fee",
         "0.0",
         "100.0",
         "100.0"
        ],
        [
         "25",
         "airport_fee",
         "0.0",
         "100.0",
         "100.0"
        ]
       ],
       "shape": {
        "columns": 4,
        "rows": 26
       }
      },
      "text/html": [
       "<div>\n",
       "<style scoped>\n",
       "    .dataframe tbody tr th:only-of-type {\n",
       "        vertical-align: middle;\n",
       "    }\n",
       "\n",
       "    .dataframe tbody tr th {\n",
       "        vertical-align: top;\n",
       "    }\n",
       "\n",
       "    .dataframe thead th {\n",
       "        text-align: right;\n",
       "    }\n",
       "</style>\n",
       "<table border=\"1\" class=\"dataframe\">\n",
       "  <thead>\n",
       "    <tr style=\"text-align: right;\">\n",
       "      <th></th>\n",
       "      <th>column</th>\n",
       "      <th>%missing</th>\n",
       "      <th>%zeros</th>\n",
       "      <th>%mode_share</th>\n",
       "    </tr>\n",
       "  </thead>\n",
       "  <tbody>\n",
       "    <tr>\n",
       "      <th>3</th>\n",
       "      <td>passenger_count</td>\n",
       "      <td>9.94</td>\n",
       "      <td>0.97</td>\n",
       "      <td>69.55</td>\n",
       "    </tr>\n",
       "    <tr>\n",
       "      <th>17</th>\n",
       "      <td>congestion_surcharge</td>\n",
       "      <td>9.94</td>\n",
       "      <td>7.24</td>\n",
       "      <td>81.62</td>\n",
       "    </tr>\n",
       "    <tr>\n",
       "      <th>18</th>\n",
       "      <td>Airport_fee</td>\n",
       "      <td>9.94</td>\n",
       "      <td>82.01</td>\n",
       "      <td>82.01</td>\n",
       "    </tr>\n",
       "    <tr>\n",
       "      <th>2</th>\n",
       "      <td>tpep_dropoff_datetime</td>\n",
       "      <td>0.00</td>\n",
       "      <td>NaN</td>\n",
       "      <td>0.00</td>\n",
       "    </tr>\n",
       "    <tr>\n",
       "      <th>1</th>\n",
       "      <td>tpep_pickup_datetime</td>\n",
       "      <td>0.00</td>\n",
       "      <td>NaN</td>\n",
       "      <td>0.00</td>\n",
       "    </tr>\n",
       "    <tr>\n",
       "      <th>5</th>\n",
       "      <td>RatecodeID</td>\n",
       "      <td>0.00</td>\n",
       "      <td>0.00</td>\n",
       "      <td>84.17</td>\n",
       "    </tr>\n",
       "    <tr>\n",
       "      <th>6</th>\n",
       "      <td>store_and_fwd_flag</td>\n",
       "      <td>0.00</td>\n",
       "      <td>NaN</td>\n",
       "      <td>89.64</td>\n",
       "    </tr>\n",
       "    <tr>\n",
       "      <th>7</th>\n",
       "      <td>PULocationID</td>\n",
       "      <td>0.00</td>\n",
       "      <td>0.00</td>\n",
       "      <td>4.83</td>\n",
       "    </tr>\n",
       "    <tr>\n",
       "      <th>4</th>\n",
       "      <td>trip_distance</td>\n",
       "      <td>0.00</td>\n",
       "      <td>1.88</td>\n",
       "      <td>1.88</td>\n",
       "    </tr>\n",
       "    <tr>\n",
       "      <th>0</th>\n",
       "      <td>VendorID</td>\n",
       "      <td>0.00</td>\n",
       "      <td>0.00</td>\n",
       "      <td>76.39</td>\n",
       "    </tr>\n",
       "    <tr>\n",
       "      <th>9</th>\n",
       "      <td>payment_type</td>\n",
       "      <td>0.00</td>\n",
       "      <td>9.94</td>\n",
       "      <td>73.97</td>\n",
       "    </tr>\n",
       "    <tr>\n",
       "      <th>8</th>\n",
       "      <td>DOLocationID</td>\n",
       "      <td>0.00</td>\n",
       "      <td>0.00</td>\n",
       "      <td>4.36</td>\n",
       "    </tr>\n",
       "    <tr>\n",
       "      <th>12</th>\n",
       "      <td>mta_tax</td>\n",
       "      <td>0.00</td>\n",
       "      <td>1.21</td>\n",
       "      <td>97.37</td>\n",
       "    </tr>\n",
       "    <tr>\n",
       "      <th>10</th>\n",
       "      <td>fare_amount</td>\n",
       "      <td>0.00</td>\n",
       "      <td>0.04</td>\n",
       "      <td>4.04</td>\n",
       "    </tr>\n",
       "    <tr>\n",
       "      <th>13</th>\n",
       "      <td>tip_amount</td>\n",
       "      <td>0.00</td>\n",
       "      <td>28.72</td>\n",
       "      <td>28.72</td>\n",
       "    </tr>\n",
       "    <tr>\n",
       "      <th>14</th>\n",
       "      <td>tolls_amount</td>\n",
       "      <td>0.00</td>\n",
       "      <td>92.38</td>\n",
       "      <td>92.38</td>\n",
       "    </tr>\n",
       "    <tr>\n",
       "      <th>15</th>\n",
       "      <td>improvement_surcharge</td>\n",
       "      <td>0.00</td>\n",
       "      <td>0.75</td>\n",
       "      <td>97.77</td>\n",
       "    </tr>\n",
       "    <tr>\n",
       "      <th>11</th>\n",
       "      <td>extra</td>\n",
       "      <td>0.00</td>\n",
       "      <td>45.81</td>\n",
       "      <td>45.81</td>\n",
       "    </tr>\n",
       "    <tr>\n",
       "      <th>16</th>\n",
       "      <td>total_amount</td>\n",
       "      <td>0.00</td>\n",
       "      <td>0.01</td>\n",
       "      <td>1.29</td>\n",
       "    </tr>\n",
       "    <tr>\n",
       "      <th>19</th>\n",
       "      <td>trip_duration_min</td>\n",
       "      <td>0.00</td>\n",
       "      <td>0.03</td>\n",
       "      <td>0.12</td>\n",
       "    </tr>\n",
       "    <tr>\n",
       "      <th>20</th>\n",
       "      <td>pickup_month</td>\n",
       "      <td>0.00</td>\n",
       "      <td>0.00</td>\n",
       "      <td>9.31</td>\n",
       "    </tr>\n",
       "    <tr>\n",
       "      <th>21</th>\n",
       "      <td>pickup_day</td>\n",
       "      <td>0.00</td>\n",
       "      <td>0.00</td>\n",
       "      <td>3.53</td>\n",
       "    </tr>\n",
       "    <tr>\n",
       "      <th>22</th>\n",
       "      <td>pickup_hour</td>\n",
       "      <td>0.00</td>\n",
       "      <td>2.90</td>\n",
       "      <td>7.18</td>\n",
       "    </tr>\n",
       "    <tr>\n",
       "      <th>23</th>\n",
       "      <td>pickup_dow</td>\n",
       "      <td>0.00</td>\n",
       "      <td>12.42</td>\n",
       "      <td>15.61</td>\n",
       "    </tr>\n",
       "    <tr>\n",
       "      <th>24</th>\n",
       "      <td>cbd_congestion_fee</td>\n",
       "      <td>0.00</td>\n",
       "      <td>100.00</td>\n",
       "      <td>100.00</td>\n",
       "    </tr>\n",
       "    <tr>\n",
       "      <th>25</th>\n",
       "      <td>airport_fee</td>\n",
       "      <td>0.00</td>\n",
       "      <td>100.00</td>\n",
       "      <td>100.00</td>\n",
       "    </tr>\n",
       "  </tbody>\n",
       "</table>\n",
       "</div>"
      ],
      "text/plain": [
       "                   column  %missing  %zeros  %mode_share\n",
       "3         passenger_count      9.94    0.97        69.55\n",
       "17   congestion_surcharge      9.94    7.24        81.62\n",
       "18            Airport_fee      9.94   82.01        82.01\n",
       "2   tpep_dropoff_datetime      0.00     NaN         0.00\n",
       "1    tpep_pickup_datetime      0.00     NaN         0.00\n",
       "5              RatecodeID      0.00    0.00        84.17\n",
       "6      store_and_fwd_flag      0.00     NaN        89.64\n",
       "7            PULocationID      0.00    0.00         4.83\n",
       "4           trip_distance      0.00    1.88         1.88\n",
       "0                VendorID      0.00    0.00        76.39\n",
       "9            payment_type      0.00    9.94        73.97\n",
       "8            DOLocationID      0.00    0.00         4.36\n",
       "12                mta_tax      0.00    1.21        97.37\n",
       "10            fare_amount      0.00    0.04         4.04\n",
       "13             tip_amount      0.00   28.72        28.72\n",
       "14           tolls_amount      0.00   92.38        92.38\n",
       "15  improvement_surcharge      0.00    0.75        97.77\n",
       "11                  extra      0.00   45.81        45.81\n",
       "16           total_amount      0.00    0.01         1.29\n",
       "19      trip_duration_min      0.00    0.03         0.12\n",
       "20           pickup_month      0.00    0.00         9.31\n",
       "21             pickup_day      0.00    0.00         3.53\n",
       "22            pickup_hour      0.00    2.90         7.18\n",
       "23             pickup_dow      0.00   12.42        15.61\n",
       "24     cbd_congestion_fee      0.00  100.00       100.00\n",
       "25            airport_fee      0.00  100.00       100.00"
      ]
     },
     "execution_count": 13,
     "metadata": {},
     "output_type": "execute_result"
    }
   ],
   "source": [
    "total_rows = len(df)\n",
    "rows = []\n",
    "for col in df.columns:\n",
    "    miss_pct = df[col].isna().mean() * 100\n",
    "    zero_pct = ((df[col] == 0).sum() / total_rows) * 100 if pd.api.types.is_numeric_dtype(df[col]) else np.nan\n",
    "    top_freq = df[col].value_counts(dropna=False).iloc[0]\n",
    "    mode_pct = (top_freq / total_rows) * 100\n",
    "    rows.append({\"column\": col, \"%missing\": round(miss_pct, 2),\n",
    "                 \"%zeros\": round(zero_pct, 2) if not np.isnan(zero_pct) else np.nan,\n",
    "                 \"%mode_share\": round(mode_pct, 2)})\n",
    "\n",
    "eda_df = pd.DataFrame(rows).sort_values(\"%missing\", ascending=False)\n",
    "eda_df"
   ]
  },
  {
   "cell_type": "code",
   "execution_count": 14,
   "id": "4ebbca45",
   "metadata": {},
   "outputs": [],
   "source": [
    "del eda_df, df"
   ]
  },
  {
   "cell_type": "code",
   "execution_count": null,
   "id": "81c16c07",
   "metadata": {},
   "outputs": [
    {
     "name": "stderr",
     "output_type": "stream",
     "text": [
      "[I 2025-05-20 17:24:15,965] A new study created in memory with name: no-name-0ceed55f-8814-4224-95d8-d61f69c08a07\n"
     ]
    },
    {
     "data": {
      "application/vnd.jupyter.widget-view+json": {
       "model_id": "13a7198c752c4f43ba2850c2ea1490e3",
       "version_major": 2,
       "version_minor": 0
      },
      "text/plain": [
       "  0%|          | 0/1 [00:00<?, ?it/s]"
      ]
     },
     "metadata": {},
     "output_type": "display_data"
    }
   ],
   "source": [
    "tscv = TimeSeriesSplit(n_splits=4)\n",
    "\n",
    "def objective(trial):\n",
    "    params = {\n",
    "        \"loss_function\": \"RMSE\",\n",
    "        \"iterations\": trial.suggest_int(\"iterations\", 100, 2000),\n",
    "        \"depth\": trial.suggest_int(\"depth\", 4, 10),\n",
    "        \"learning_rate\": trial.suggest_float(\"learning_rate\", 1e-3, 0.3, log=True),\n",
    "        \"l2_leaf_reg\": trial.suggest_float(\"l2_leaf_reg\", 1e-3, 100, log=True),\n",
    "        \"bagging_temperature\": trial.suggest_float(\"bagging_temperature\", 0, 1),\n",
    "        \"random_strength\": trial.suggest_float(\"random_strength\", 0, 1),\n",
    "        \"random_seed\": 42,\n",
    "        \"verbose\": 0,\n",
    "        \"early_stopping_rounds\": 20,\n",
    "        \"task_type\": \"GPU\",\n",
    "        \"devices\": \"0\",\n",
    "    }\n",
    "    rmses = []\n",
    "    try:\n",
    "        for train_idx, val_idx in tscv.split(X_train):\n",
    "            X_tr, X_val = X_train.iloc[train_idx], X_train.iloc[val_idx]\n",
    "            y_tr, y_val = y_train.iloc[train_idx], y_train.iloc[val_idx]\n",
    "            model = CatBoostRegressor(**params)\n",
    "            model.fit(\n",
    "                X_tr, y_tr,\n",
    "                cat_features=categorical,\n",
    "                eval_set=(X_val, y_val)\n",
    "            )\n",
    "            preds = model.predict(X_val)\n",
    "            rmses.append(mean_squared_error(y_val, preds))\n",
    "        return np.mean(rmses)\n",
    "    except CatBoostError as e:\n",
    "        trial.set_user_attr(\"fail_reason\", str(e))\n",
    "        return float(\"inf\")\n",
    "\n",
    "study = optuna.create_study(\n",
    "    direction=\"minimize\",\n",
    "    pruner=optuna.pruners.HyperbandPruner()\n",
    ")\n",
    "study.optimize(objective, n_trials=1, show_progress_bar=True)"
   ]
  },
  {
   "cell_type": "code",
   "execution_count": null,
   "id": "fb74548e",
   "metadata": {},
   "outputs": [],
   "source": [
    "best_params = study.best_trial.params\n",
    "best_params.update({\"loss_function\": \"RMSE\", \"random_seed\": 42, \"verbose\": 0})\n",
    "\n",
    "model = CatBoostRegressor(**best_params)\n",
    "model.fit(X_train, y_train, cat_features=categorical, eval_set=(X_test, y_test))\n",
    "\n",
    "preds = model.predict(X_test)\n",
    "rmse_test = mean_squared_error(y_test, preds)\n",
    "print(f\"RMSE on hold-out test set: {rmse_test:.4f}\")"
   ]
  },
  {
   "cell_type": "code",
   "execution_count": null,
   "id": "0bedc8bc",
   "metadata": {},
   "outputs": [],
   "source": [
    "plt.figure(figsize=(6, 6))\n",
    "sns.scatterplot(x=y_test, y=preds, alpha=0.3)\n",
    "plt.xlabel(\"Actual\")\n",
    "plt.ylabel(\"Predicted\")\n",
    "plt.tight_layout()\n",
    "plt.savefig(\"scatter_actual_vs_pred.png\", dpi=300)\n",
    "\n",
    "residuals = y_test - preds\n",
    "plt.figure(figsize=(6, 4))\n",
    "sns.histplot(residuals, bins=100, kde=True)\n",
    "plt.xlabel(\"Residuals\")\n",
    "plt.tight_layout()\n",
    "plt.savefig(\"residual_hist.png\", dpi=300)\n",
    "\n",
    "importances = model.get_feature_importance(type=\"PredictionValuesChange\")\n",
    "imp_df = pd.DataFrame({\"feature\": features, \"importance\": importances}).sort_values(\"importance\", ascending=False)\n",
    "plt.figure(figsize=(8, 6))\n",
    "sns.barplot(x=\"importance\", y=\"feature\", data=imp_df.head(20))\n",
    "plt.tight_layout()\n",
    "plt.savefig(\"feature_importance.png\", dpi=300)\n",
    "\n",
    "model.save_model(\"tip_model_catboost.cbm\")\n",
    "imp_df.to_csv(\"feature_importance.csv\", index=False)"
   ]
  }
 ],
 "metadata": {
  "kernelspec": {
   "display_name": "pad-final-project-uFfiJNJD-py3.12",
   "language": "python",
   "name": "python3"
  },
  "language_info": {
   "codemirror_mode": {
    "name": "ipython",
    "version": 3
   },
   "file_extension": ".py",
   "mimetype": "text/x-python",
   "name": "python",
   "nbconvert_exporter": "python",
   "pygments_lexer": "ipython3",
   "version": "3.12.3"
  }
 },
 "nbformat": 4,
 "nbformat_minor": 5
}
